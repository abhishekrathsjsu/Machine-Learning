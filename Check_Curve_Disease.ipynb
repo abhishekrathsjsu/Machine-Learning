{
  "nbformat": 4,
  "nbformat_minor": 0,
  "metadata": {
    "colab": {
      "name": "Check Curve Disease.ipynb",
      "provenance": [],
      "authorship_tag": "ABX9TyM8Mz70dDugcW8LzHaBovND",
      "include_colab_link": true
    },
    "kernelspec": {
      "name": "python3",
      "display_name": "Python 3"
    }
  },
  "cells": [
    {
      "cell_type": "markdown",
      "metadata": {
        "id": "view-in-github",
        "colab_type": "text"
      },
      "source": [
        "<a href=\"https://colab.research.google.com/github/abhishekrathsjsu/Machine-Learning/blob/master/Check_Curve_Disease.ipynb\" target=\"_parent\"><img src=\"https://colab.research.google.com/assets/colab-badge.svg\" alt=\"Open In Colab\"/></a>"
      ]
    },
    {
      "cell_type": "code",
      "metadata": {
        "id": "GOtz-BBv2EIR",
        "colab_type": "code",
        "colab": {}
      },
      "source": [
        "import numpy as np\n",
        "import matplotlib.pyplot as plt\n",
        "import pandas as pd \n",
        "\n",
        "from sklearn.metrics import roc_curve, auc, f1_score, precision_recall_curve\n"
      ],
      "execution_count": 0,
      "outputs": []
    },
    {
      "cell_type": "code",
      "metadata": {
        "id": "KUSogS7A98tB",
        "colab_type": "code",
        "colab": {}
      },
      "source": [
        "y = [0.01,0.02,0.03,0.04,0.05,0.06,0.07,0.09,0.05,0.11,0.12,0.21,0.22,0.23,0.33,0.35,0.52,0.53,0.72,0.74,0.76,0.78,0.81,0.82,0.83,0.84,0.86,0.92,0.93,0.94,0.995,0.96]\n",
        "label = [0,0,0,0,0,0,0,0,1,0,0,0,1,1,0,0,0,1,0,1,1,1,1,1,1,1,1,0,1,1,1,1]"
      ],
      "execution_count": 0,
      "outputs": []
    },
    {
      "cell_type": "code",
      "metadata": {
        "id": "IZV8K9v4JTDF",
        "colab_type": "code",
        "colab": {}
      },
      "source": [
        " fpr, tpr, _ = roc_curve(label, y)\n",
        " roc_auc = auc(fpr, tpr)"
      ],
      "execution_count": 0,
      "outputs": []
    },
    {
      "cell_type": "code",
      "metadata": {
        "id": "16R_GiCsQxF9",
        "colab_type": "code",
        "colab": {
          "base_uri": "https://localhost:8080/",
          "height": 295
        },
        "outputId": "7c6c112c-0ec1-46f3-86b1-1d4302157675"
      },
      "source": [
        "plt.figure()\n",
        "plt.plot(fpr, tpr, color='darkorange',lw= 2, label='ROC curve (area = %0.2f)' % roc_auc)\n",
        "plt.xlim([0.0, 1.0])\n",
        "plt.ylim([0.0, 1.05])\n",
        "plt.xlabel('False Positive Rate')\n",
        "plt.ylabel('True Positive Rate')\n",
        "plt.title('Receiver Operating Characteristic Graph')\n",
        "plt.legend(loc=\"lower right\")\n",
        "plt.show()"
      ],
      "execution_count": 60,
      "outputs": [
        {
          "output_type": "display_data",
          "data": {
            "image/png": "[encoded data removed]",
            "text/plain": [
              "<Figure size 432x288 with 1 Axes>"
            ]
          },
          "metadata": {
            "tags": []
          }
        }
      ]
    },
    {
      "cell_type": "code",
      "metadata": {
        "id": "cQEUWw5lQ_nr",
        "colab_type": "code",
        "colab": {}
      },
      "source": [
        "precision, recall, _ = precision_recall_curve(label, y)\n",
        "prc_auc = auc(recall, precision)"
      ],
      "execution_count": 0,
      "outputs": []
    },
    {
      "cell_type": "code",
      "metadata": {
        "id": "WVNMNRIUUPQh",
        "colab_type": "code",
        "colab": {
          "base_uri": "https://localhost:8080/",
          "height": 295
        },
        "outputId": "ed851d58-bccc-4f8e-c51f-676f650d398b"
      },
      "source": [
        "plt.figure()\n",
        "plt.plot(recall, precision, color='darkorange',lw= 2, label='PR Curve (area = %0.2f)' % prc_auc)\n",
        "plt.xlim([0.0, 1.0])\n",
        "plt.ylim([0.0, 1.05])\n",
        "plt.xlabel('Recall')\n",
        "plt.ylabel('Precision')\n",
        "plt.title('Precision-Recall Curve')\n",
        "plt.legend(loc=\"lower right\")\n",
        "plt.show()"
      ],
      "execution_count": 61,
      "outputs": [
        {
          "output_type": "display_data",
          "data": {
            "image/png": "[encoded data removed]",
            "text/plain": [
              "<Figure size 432x288 with 1 Axes>"
            ]
          },
          "metadata": {
            "tags": []
          }
        }
      ]
    },
    {
      "cell_type": "code",
      "metadata": {
        "id": "_4oUAD5uVSbx",
        "colab_type": "code",
        "colab": {}
      },
      "source": [
        ""
      ],
      "execution_count": 0,
      "outputs": []
    }
  ]
}